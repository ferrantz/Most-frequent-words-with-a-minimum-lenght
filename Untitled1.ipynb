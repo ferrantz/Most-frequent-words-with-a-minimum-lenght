{
 "cells": [
  {
   "cell_type": "code",
   "execution_count": 1,
   "metadata": {},
   "outputs": [
    {
     "name": "stdout",
     "output_type": "stream",
     "text": [
      "This is the dictionary with most repeated words that have lenght > 10 are: \n",
      "\n",
      "[('carrettiere', 4), ('monellaccio', 3), ('sotterraneo', 3), ('accanimento', 3), ('scapaccioni', 2), ('accarezzavano', 2), ('addirittura', 2), (\"L'ingegnere\", 2), ('misericordia', 2), ('dondolandosi', 2)] \n",
      "\n",
      "This is the bar chart: \n",
      "\n"
     ]
    },
    {
     "data": {
      "image/png": "[encoded data removed]",
      "text/plain": [
       "<Figure size 432x288 with 1 Axes>"
      ]
     },
     "metadata": {
      "needs_background": "light"
     },
     "output_type": "display_data"
    }
   ],
   "source": [
    "import numpy as np\n",
    "from matplotlib import pyplot as plt\n",
    "\n",
    "def words_in_text(folder, number_of_letters):\n",
    "    '''It returns a dictionary'''\n",
    "    infile = open(folder, 'r')\n",
    "    d = {}\n",
    "    for line in infile:\n",
    "        words = line.replace('.','').replace(',','').replace(':','').replace('!','').replace('?','').split()\n",
    "        for word in words:\n",
    "            if len(word) > number_of_letters:\n",
    "                d[word] = d.get(word, 0) + 1\n",
    "    return d\n",
    "\n",
    "def most_repeated_words(dictionary, number_of_words):\n",
    "    '''It prints the requested dictionary'''\n",
    "    return sorted(dictionary.items(), key = lambda x:x[1], reverse = True)[0:number_of_words]\n",
    "\n",
    "def bar_from_list(list_of_tuples):\n",
    "    '''It prints out the bar chart'''\n",
    "    X = [list_of_tuples[i][0] for i in range(len(list_of_tuples))]\n",
    "    Y = [list_of_tuples[i][1] for i in range(len(list_of_tuples))]\n",
    "    plt.bar(X, Y)\n",
    "    plt.show()\n",
    "    \n",
    "def main():\n",
    "    '''It is the main function'''\n",
    "    path = 'Anaconda3\\Rosso_Malpelo.txt' \n",
    "    number_of_words = 10\n",
    "    number_of_letters = 10\n",
    "    words_1 = words_in_text(path, number_of_letters) \n",
    "    print('This is the dictionary with most repeated words that have lenght > 10 are: \\n')\n",
    "    words_2 = most_repeated_words(words_1, number_of_words)                                                                                       \n",
    "    print(words_2, '\\n')\n",
    "    print('This is the bar chart: \\n')\n",
    "    bar_from_list(words_2)\n",
    "    \n",
    "if __name__ == '__main__':\n",
    "    main()"
   ]
  },
  {
   "cell_type": "code",
   "execution_count": null,
   "metadata": {},
   "outputs": [],
   "source": []
  }
 ],
 "metadata": {
  "kernelspec": {
   "display_name": "Python 3",
   "language": "python",
   "name": "python3"
  },
  "language_info": {
   "codemirror_mode": {
    "name": "ipython",
    "version": 3
   },
   "file_extension": ".py",
   "mimetype": "text/x-python",
   "name": "python",
   "nbconvert_exporter": "python",
   "pygments_lexer": "ipython3",
   "version": "3.7.3"
  }
 },
 "nbformat": 4,
 "nbformat_minor": 2
}
